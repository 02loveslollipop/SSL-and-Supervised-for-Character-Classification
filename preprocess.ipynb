{
  "cells": [
    {
      "cell_type": "markdown",
      "metadata": {
        "language": "markdown"
      },
      "source": [
        "# Large-Scale Image Preprocessing for SimCLR and Supervised Datasets\n",
        "\n",
        "This notebook preprocesses large image datasets by resizing, normalizing, and saving images and tensors for efficient loading in downstream experiments. It handles both SimCLR (unlabeled) and supervised (labeled) datasets, ensuring portability and memory efficiency."
      ]
    },
    {
      "cell_type": "markdown",
      "metadata": {
        "language": "markdown"
      },
      "source": [
        "## 1. Import Required Libraries"
      ]
    },
    {
      "cell_type": "code",
      "execution_count": null,
      "metadata": {
        "language": "python"
      },
      "outputs": [],
      "source": [
        "import os\n",
        "import glob\n",
        "from PIL import Image\n",
        "import torch\n",
        "from torchvision import transforms\n",
        "from tqdm import tqdm\n",
        "import numpy as np"
      ]
    },
    {
      "cell_type": "markdown",
      "metadata": {
        "language": "markdown"
      },
      "source": [
        "## 2. Define Dataset Paths"
      ]
    },
    {
      "cell_type": "code",
      "execution_count": null,
      "id": "74d7fb53",
      "metadata": {
        "language": "python"
      },
      "outputs": [],
      "source": [
        "# Example directory structure (customize as needed)\n",
        "RAW_SIMCLR_DIR = \"/home/zerotwo/ssl-ml/data/raw/simclr_dataset\"\n",
        "RAW_SUPERVISED_DIR = \"/home/zerotwo/ssl-ml/data/raw/genshin_classification\"\n",
        "\n",
        "PROCESSED_SIMCLR_IMG_DIR = \"/home/zerotwo/ssl-ml/data/processed/simclr_images\"\n",
        "PROCESSED_SUPERVISED_IMG_DIR = \"/home/zerotwo/ssl-ml/data/processed/genshin_images\"\n",
        "\n",
        "PROCESSED_SIMCLR_TENSOR_PATH = \"/home/zerotwo/ssl-ml/data/processed/simclr_dataset.pt\"\n",
        "PROCESSED_SUPERVISED_TENSOR_PATH = \"/home/zerotwo/ssl-ml/data/processed/genshin_dataset.pt\""
      ]
    },
    {
      "cell_type": "markdown",
      "id": "688ccb48",
      "metadata": {
        "language": "markdown"
      },
      "source": [
        "## 3. Image Transformations (Resize & Normalize)"
      ]
    },
    {
      "cell_type": "code",
      "execution_count": null,
      "id": "0a39ac44",
      "metadata": {
        "language": "python"
      },
      "outputs": [],
      "source": [
        "IMAGENET_MEAN = [0.485, 0.456, 0.406]\n",
        "IMAGENET_STD = [0.229, 0.224, 0.225]\n",
        "\n",
        "transform = transforms.Compose([\n",
        "    transforms.Resize((256, 256)),\n",
        "    transforms.ToTensor(),\n",
        "    transforms.Normalize(mean=IMAGENET_MEAN, std=IMAGENET_STD)\n",
        "])"
      ]
    },
    {
      "cell_type": "markdown",
      "id": "0e741e5e",
      "metadata": {
        "language": "markdown"
      },
      "source": [
        "## 4. Preprocess and Save SimCLR Images and Tensors"
      ]
    },
    {
      "cell_type": "code",
      "execution_count": null,
      "id": "5e1b2d8f",
      "metadata": {
        "language": "python"
      },
      "outputs": [],
      "source": [
        "os.makedirs(PROCESSED_SIMCLR_IMG_DIR, exist_ok=True)\n",
        "image_paths = glob.glob(os.path.join(RAW_SIMCLR_DIR, '**', '*.jpg'), recursive=True) + \\\n",
        "              glob.glob(os.path.join(RAW_SIMCLR_DIR, '**', '*.png'), recursive=True)\n",
        "\n",
        "tensor_list = []\n",
        "for img_path in tqdm(image_paths, desc='SimCLR Preprocessing'):\n",
        "    img = Image.open(img_path).convert('RGB')\n",
        "    tensor = transform(img)\n",
        "    tensor_list.append(tensor)\n",
        "    # Save processed image (as PNG, normalized values will be visible only for tensor loading)\n",
        "    out_path = os.path.join(PROCESSED_SIMCLR_IMG_DIR, os.path.basename(img_path))\n",
        "    img.save(out_path)\n",
        "\n",
        "simclr_tensor = torch.stack(tensor_list)\n",
        "torch.save(simclr_tensor, PROCESSED_SIMCLR_TENSOR_PATH)\n",
        "print(f\"SimCLR processed tensor shape: {simclr_tensor.shape}\")"
      ]
    },
    {
      "cell_type": "markdown",
      "id": "4468d8c6",
      "metadata": {
        "language": "markdown"
      },
      "source": [
        "## 5. Preprocess and Save Supervised Images and Tensors (No Splits)"
      ]
    },
    {
      "cell_type": "code",
      "execution_count": null,
      "id": "c9d641c7",
      "metadata": {
        "language": "python"
      },
      "outputs": [],
      "source": [
        "os.makedirs(PROCESSED_SUPERVISED_IMG_DIR, exist_ok=True)\n",
        "all_tensors = []\n",
        "all_labels = []\n",
        "\n",
        "# Expect RAW_SUPERVISED_DIR/class_name/*.jpg (or .png)\n",
        "for class_name in os.listdir(RAW_SUPERVISED_DIR):\n",
        "    class_dir = os.path.join(RAW_SUPERVISED_DIR, class_name)\n",
        "    if not os.path.isdir(class_dir): continue\n",
        "    img_paths = glob.glob(os.path.join(class_dir, '*.jpg')) + glob.glob(os.path.join(class_dir, '*.png'))\n",
        "    for img_path in tqdm(img_paths, desc=f'{class_name}'):\n",
        "        img = Image.open(img_path).convert('RGB')\n",
        "        tensor = transform(img)\n",
        "        all_tensors.append(tensor)\n",
        "        all_labels.append(class_name)\n",
        "        # Save processed image\n",
        "        out_dir = os.path.join(PROCESSED_SUPERVISED_IMG_DIR, class_name)\n",
        "        os.makedirs(out_dir, exist_ok=True)\n",
        "        out_path = os.path.join(out_dir, os.path.basename(img_path))\n",
        "        img.save(out_path)\n",
        "\n",
        "# Convert labels to indices\n",
        "class_names = sorted(list(set(all_labels)))\n",
        "label_to_idx = {name: idx for idx, name in enumerate(class_names)}\n",
        "labels_idx = [label_to_idx[label] for label in all_labels]\n",
        "\n",
        "supervised_tensor = torch.stack(all_tensors)\n",
        "labels_tensor = torch.tensor(labels_idx)\n",
        "torch.save({'images': supervised_tensor, 'labels': labels_tensor, 'class_names': class_names}, PROCESSED_SUPERVISED_TENSOR_PATH)\n",
        "print(f\"Supervised processed tensor shape: {supervised_tensor.shape}, labels shape: {labels_tensor.shape}\")"
      ]
    },
    {
      "cell_type": "markdown",
      "metadata": {
        "language": "markdown"
      },
      "source": [
        "## 6. Example: Loading Preprocessed Tensors in Training Notebook"
      ]
    },
    {
      "cell_type": "code",
      "execution_count": null,
      "metadata": {
        "language": "python"
      },
      "outputs": [],
      "source": [
        "# SimCLR\n",
        "simclr_tensor = torch.load(PROCESSED_SIMCLR_TENSOR_PATH)\n",
        "print(simclr_tensor.shape)\n",
        "\n",
        "# Supervised\n",
        "supervised_data = torch.load(PROCESSED_SUPERVISED_TENSOR_PATH)\n",
        "images = supervised_data['images']\n",
        "labels = supervised_data['labels']\n",
        "class_names = supervised_data['class_names']\n",
        "print(images.shape, labels.shape, class_names)"
      ]
    }
  ],
  "metadata": {
    "language_info": {
      "name": "python"
    }
  },
  "nbformat": 4,
  "nbformat_minor": 5
}
